{
 "cells": [
  {
   "cell_type": "code",
   "execution_count": 1,
   "id": "c3df925a-a643-4f05-978a-8fc9a6b48c29",
   "metadata": {
    "tags": []
   },
   "outputs": [],
   "source": [
    "import random \n",
    "class Dice():\n",
    "    def __init__(self):\n",
    "        self.dice1 = 0\n",
    "        self.dice2 = 0\n",
    "        self.total = 0\n",
    "        print(f\"superparent'ın içi {self.dice1} ve {self.dice2}\")\n",
    "    \n",
    "    def roll(self):\n",
    "        self.dice1 = random.randint(1, 6)\n",
    "        self.dice2 = random.randint(1, 6)\n",
    "        self.total = self.dice1 + self.dice2\n",
    "        return self.dice1, self.dice2, self.total"
   ]
  },
  {
   "cell_type": "code",
   "execution_count": 2,
   "id": "acd2ceb2-a9a0-402b-8a59-ad60a8947601",
   "metadata": {},
   "outputs": [],
   "source": [
    "class Table(Dice):\n",
    "    def __init__(self):\n",
    "        super().__init__()\n",
    "        \n",
    "    def point_check(self):\n",
    "        super().roll()\n",
    "        self.point = self.dice1+self.dice2\n",
    "        if 0 < self.point < 13: \n",
    "            return print(\"point has been set\")\n",
    "        else: \n",
    "            print(\"point has not been set\")  "
   ]
  },
  {
   "cell_type": "code",
   "execution_count": 3,
   "id": "2653d956-5217-4f6e-9f27-b8611e6a076d",
   "metadata": {},
   "outputs": [],
   "source": [
    "class Player(Table):\n",
    "    def __init__(self):\n",
    "        super().__init__()\n",
    "        self.name = input(\"Please enter your name:\")\n",
    "        \n",
    "        while True:\n",
    "            try:\n",
    "                self.bankroll = input(\"Please enter your bankroll:\")\n",
    "                if int(self.bankroll)<0:\n",
    "                    print(\"negative vibe\")\n",
    "                    continue\n",
    "                else:\n",
    "                    value = int(self.bankroll)\n",
    "                    print(\"you good boi\")\n",
    "            except:\n",
    "                try:\n",
    "                    value = float(self.bankroll)\n",
    "                    print(\"Please enter the value as an integer\")\n",
    "                    continue\n",
    "                except ValueError:\n",
    "                    print(\"That's not a number!\")\n",
    "                    continue\n",
    "            else:\n",
    "                self.bankroll = int(self.bankroll)\n",
    "                return False  "
   ]
  },
  {
   "cell_type": "code",
   "execution_count": 49,
   "id": "0416e194-2c30-458d-b351-6cce54c405bb",
   "metadata": {},
   "outputs": [],
   "source": [
    "class Bets(Player):\n",
    "    def __init__(self):\n",
    "        super().__init__()\n",
    "        self.point_on = 0  \n",
    "        self.pas = 0\n",
    "    \n",
    "    def Insufficient_funds(self):\n",
    "        while True:\n",
    "            try:\n",
    "                self.bet_amount = int(input(f\"Your bankroll is equal to {self.bankroll}. Please enter an amount less than your bankroll:\"))\n",
    "                if int(self.bet_amount) > int(self.bankroll):\n",
    "                    continue\n",
    "                else: \n",
    "                    break\n",
    "            except: \n",
    "                continue\n",
    "            else: \n",
    "                break\n",
    "    \n",
    "    def pass_line(self):\n",
    "        self.bankroll -= self.bet_amount\n",
    "        self.betsave = self.bet_amount \n",
    "        if self.total == 7 or self.total == 11:\n",
    "            self.output = self.bet_amount \n",
    "            Bets.bet_winner(self) #BURADA SIKINTI VAR!!!!!!!\n",
    "        elif self.total == 2 or self.total == 3:\n",
    "            Bets.bet_loser(self)\n",
    "        else: \n",
    "            print(\"ladies and gentlemen! we got on\")\n",
    "            self.point_on = self.total\n",
    "            self.pas = 1\n",
    "    \n",
    "    def do_not_pass(self):\n",
    "        self.bankroll -= self.bet_amount\n",
    "        self.betsave = self.bet_amount \n",
    "        if self.total == 2 or self.total == 3:\n",
    "            Bets.bet_winner(self) \n",
    "        elif self.total == 7 or self.total == 11:\n",
    "            Bets.bet_loser(self)\n",
    "        else: \n",
    "            print(\"ladies and gentlemen! we got on\")\n",
    "            self.point_on = self.total\n",
    "            self.pas = 2\n",
    "    \n",
    "    def betting_turn(self):\n",
    "        \n",
    "        answer_for_bet = input(\"Do you wish to bet this round y/n?:\").lower()\n",
    "        if answer_for_bet == \"n\":\n",
    "            return print(f\"{self.name} passed this round\")\n",
    "        \n",
    "        elif answer_for_bet == \"y\":\n",
    "            Bets.ingest_bet(self)\n",
    "            while True:\n",
    "                self.bet_type = input(\"for bet type, enter one of the following: pass or don't pass:\").lower()\n",
    "                try:\n",
    "                    if (self.bet_type).lower() == \"pass\":\n",
    "                        Bets.pass_line(self)\n",
    "                    elif (self.bet_type).lower() == \"don't pass\":\n",
    "                        Bets.do_not_pass(self)\n",
    "                    else:\n",
    "                        print(\"please type one of the following pass, don't pass or odd bet:\")\n",
    "                        continue\n",
    "                except: \n",
    "                    print(\"please type one of the following pass, don't pass or odd bet:\")\n",
    "                    continue\n",
    "                else:\n",
    "                    break\n",
    "                           \n",
    "        else:\n",
    "            print(\"please type y or n as an input\")\n",
    "            Bets.betting_turn(self)\n",
    "    \n",
    "    def ingest_bet(self):\n",
    "                \n",
    "        while True:\n",
    "            self.bet_amount = input(\"bet_amount:\")\n",
    "            try:         \n",
    "                if int(self.bet_amount)<0:\n",
    "                    print(\"negative vibe\")\n",
    "                    continue\n",
    "                elif int(self.bet_amount)==0:\n",
    "                    print(\"you can not have 0 bet amount\")\n",
    "                    continue \n",
    "                else:\n",
    "                    if int(self.bet_amount) > int(self.bankroll):\n",
    "                        Bets.Insufficient_funds(self)\n",
    "                    else:\n",
    "                        value2 = int(self.bet_amount)\n",
    "                        print(\"you good boi\")\n",
    "            except:\n",
    "                try:\n",
    "                    value2 = float(self.bet_amount)\n",
    "                    print(\"Please enter the value as an integer\")\n",
    "                    continue\n",
    "                except ValueError:\n",
    "                    print(\"That's not a number!\")\n",
    "                    continue\n",
    "            else: \n",
    "                self.bet_amount = int(self.bet_amount)\n",
    "                break      \n",
    "        \n",
    "        \n",
    "    def bet_won(self):\n",
    "        self.bankroll += 2*self.bet_amount\n",
    "        print(f\"you won and earned {self.bet_amount}$ on this turn. Remaining balance is {self.bankroll}.\")\n",
    "            \n",
    "    def bet_lost(self):\n",
    "        print(f\"you lost {self.bet_amount}$ on this turn. Remaining balance is {self.bankroll}.\")\n",
    "    \n",
    "    def bet_made(self):\n",
    "        if self.bet_amount != 0:\n",
    "            print(\"bet is made\")\n",
    "    \n",
    "    def shooter(self):\n",
    "        if self.point_on != 0:\n",
    "            oddicin = input(\"Do you want to bet on odds?\")\n",
    "            if oddicin == \"y\":\n",
    "                Bets.ingest_bet(self)\n",
    "                Bets.odds(self)\n",
    "                Dice.roll(self)\n",
    "                if self.total == self.point_on:\n",
    "                    if self.pas == 1:\n",
    "                        Bets.bet_winner(self) \n",
    "                    elif self.pas == 2:\n",
    "                        Bets.bet_loser(self)\n",
    "                elif self.total == 7:\n",
    "                    if self.pas == 1:\n",
    "                         Bets.bet_loser(self) \n",
    "                    elif self.pas ==2:\n",
    "                         Bets.bet_winner(self)\n",
    "                else:\n",
    "                    Bets.shooter(self)\n",
    "            else:\n",
    "                Dice.roll(self)\n",
    "                if self.total == self.point_on:\n",
    "                    if self.pas == 1:\n",
    "                        Bets.bet_winner(self) \n",
    "                    elif self.pas == 2:\n",
    "                        Bets.bet_loser(self)\n",
    "                elif self.total == 7:\n",
    "                    if self.pas == 1:\n",
    "                        Bets.bet_loser(self) \n",
    "                    elif self.pas ==2:\n",
    "                        Bets.bet_winner(self)\n",
    "                else:\n",
    "                    Bets.shooter(self)\n",
    "        else:\n",
    "            print(\"haci oyun zaten bitmis\")\n",
    "    \n",
    "    def bet_loser(self):\n",
    "        print(f\"{self.bet_type.upper()} was the current bet.\")\n",
    "        Bets.bet_lost(self)\n",
    "    def bet_winner(self):\n",
    "        print(f\"{self.bet_type.upper()} was the current bet.\")\n",
    "        Bets.bet_won(self)\n",
    "                \n",
    "    def odds(self):\n",
    "        self.bankroll -= self.bet_amount \n",
    "        choose_number = int(input(\"Please enter one of the following: 4,5,6,8,9,10\"))\n",
    "        if choose_number == self.total:\n",
    "            self.bankroll += 2*self.bet_amount\n",
    "        else: \n",
    "            pass"
   ]
  },
  {
   "cell_type": "code",
   "execution_count": 51,
   "id": "c497f7c3-d7e3-41ce-8146-572bba5b2b39",
   "metadata": {},
   "outputs": [
    {
     "ename": "IndentationError",
     "evalue": "unexpected indent (454634586.py, line 5)",
     "output_type": "error",
     "traceback": [
      "\u001b[1;36m  Input \u001b[1;32mIn [51]\u001b[1;36m\u001b[0m\n\u001b[1;33m    if user_check == \"start\":\u001b[0m\n\u001b[1;37m    ^\u001b[0m\n\u001b[1;31mIndentationError\u001b[0m\u001b[1;31m:\u001b[0m unexpected indent\n"
     ]
    }
   ],
   "source": [
    "print(\"Welcome to the game of craps!!!\")\n",
    "dobby = Bets()\n",
    "user_check = input(\"If you want to start to game, type start.\").lower()\n",
    "    \n",
    "    if user_check == \"start\":\n",
    "        while True\n",
    "            \n",
    "    else:\n",
    "        print(\"bye bye\")\n",
    "    \n",
    "\n",
    "    "
   ]
  },
  {
   "cell_type": "code",
   "execution_count": 45,
   "id": "f1b72499-0ea8-436c-81cc-e2ef87726667",
   "metadata": {},
   "outputs": [
    {
     "name": "stdout",
     "output_type": "stream",
     "text": [
      "superparent'ın içi 0 ve 0\n"
     ]
    },
    {
     "name": "stdin",
     "output_type": "stream",
     "text": [
      "Please enter your name: Engin\n",
      "Please enter your bankroll: 2000\n"
     ]
    },
    {
     "name": "stdout",
     "output_type": "stream",
     "text": [
      "you good boi\n"
     ]
    }
   ],
   "source": [
    "dobby = Bets()"
   ]
  },
  {
   "cell_type": "code",
   "execution_count": 46,
   "id": "bc2bbb84-2a3e-44e2-a64b-63c795e48fb5",
   "metadata": {},
   "outputs": [
    {
     "name": "stdout",
     "output_type": "stream",
     "text": [
      "rollün içi 4 ve 4\n",
      "point has been set\n"
     ]
    }
   ],
   "source": [
    "dobby.point_check()"
   ]
  },
  {
   "cell_type": "code",
   "execution_count": 47,
   "id": "2706fa4b-ac6b-43e4-b139-628bff569e70",
   "metadata": {
    "tags": []
   },
   "outputs": [
    {
     "name": "stdin",
     "output_type": "stream",
     "text": [
      "Do you wish to bet this round y/n?: y\n",
      "bet_amount: pass\n"
     ]
    },
    {
     "name": "stdout",
     "output_type": "stream",
     "text": [
      "That's not a number!\n"
     ]
    },
    {
     "name": "stdin",
     "output_type": "stream",
     "text": [
      "bet_amount: 59\n"
     ]
    },
    {
     "name": "stdout",
     "output_type": "stream",
     "text": [
      "you good boi\n"
     ]
    },
    {
     "name": "stdin",
     "output_type": "stream",
     "text": [
      "for bet type, enter one of the following: pass or don't pass: pass\n"
     ]
    },
    {
     "name": "stdout",
     "output_type": "stream",
     "text": [
      "ladies and gentlemen! we got on\n"
     ]
    }
   ],
   "source": [
    "dobby.betting_turn()"
   ]
  },
  {
   "cell_type": "code",
   "execution_count": 48,
   "id": "8f6acc6c-cf86-47c9-9b38-1878a64be96a",
   "metadata": {},
   "outputs": [
    {
     "name": "stdin",
     "output_type": "stream",
     "text": [
      "Do you want to bet on odds? y\n",
      "bet_amount: 5\n"
     ]
    },
    {
     "name": "stdout",
     "output_type": "stream",
     "text": [
      "you good boi\n"
     ]
    },
    {
     "name": "stdin",
     "output_type": "stream",
     "text": [
      "Please enter one of the following: 4,5,6,8,9,10 4\n"
     ]
    },
    {
     "name": "stdout",
     "output_type": "stream",
     "text": [
      "rollün içi 2 ve 3\n"
     ]
    },
    {
     "name": "stdin",
     "output_type": "stream",
     "text": [
      "Do you want to bet on odds? n\n"
     ]
    },
    {
     "name": "stdout",
     "output_type": "stream",
     "text": [
      "rollün içi 4 ve 6\n"
     ]
    },
    {
     "name": "stdin",
     "output_type": "stream",
     "text": [
      "Do you want to bet on odds? n\n"
     ]
    },
    {
     "name": "stdout",
     "output_type": "stream",
     "text": [
      "rollün içi 5 ve 3\n",
      "PASS was the current bet.\n",
      "you won and earned 5$ on this turn. Remaining balance is 1946.\n"
     ]
    }
   ],
   "source": [
    "dobby.shooter()"
   ]
  },
  {
   "cell_type": "code",
   "execution_count": 12,
   "id": "d44c3fa6-ba7b-4a70-b273-eeff79293149",
   "metadata": {},
   "outputs": [
    {
     "data": {
      "text/plain": [
       "2000"
      ]
     },
     "execution_count": 12,
     "metadata": {},
     "output_type": "execute_result"
    }
   ],
   "source": [
    "dobby.bankroll"
   ]
  },
  {
   "cell_type": "code",
   "execution_count": null,
   "id": "53c28882-d750-4e67-a747-0d12c3abe0d7",
   "metadata": {},
   "outputs": [],
   "source": []
  }
 ],
 "metadata": {
  "kernelspec": {
   "display_name": "Python 3 (ipykernel)",
   "language": "python",
   "name": "python3"
  },
  "language_info": {
   "codemirror_mode": {
    "name": "ipython",
    "version": 3
   },
   "file_extension": ".py",
   "mimetype": "text/x-python",
   "name": "python",
   "nbconvert_exporter": "python",
   "pygments_lexer": "ipython3",
   "version": "3.9.12"
  }
 },
 "nbformat": 4,
 "nbformat_minor": 5
}
