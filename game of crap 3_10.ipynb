{
 "cells": [
  {
   "cell_type": "code",
   "execution_count": 1,
   "id": "c3df925a-a643-4f05-978a-8fc9a6b48c29",
   "metadata": {
    "tags": []
   },
   "outputs": [],
   "source": [
    "import random \n",
    "class Dice():\n",
    "    def __init__(self):\n",
    "        self.dice1 = 0\n",
    "        self.dice2 = 0\n",
    "        self.total = 0\n",
    "        print(f\"superparent'ın içi {self.dice1} ve {self.dice2}\")\n",
    "    \n",
    "    def roll(self):\n",
    "        self.dice1 = random.randint(1, 6)\n",
    "        self.dice2 = random.randint(1, 6)\n",
    "        print(f\"rollün içi {self.dice1} ve {self.dice2}\")\n",
    "        self.total = self.dice1 + self.dice2\n",
    "        return self.dice1, self.dice2, self.total"
   ]
  },
  {
   "cell_type": "code",
   "execution_count": 2,
   "id": "acd2ceb2-a9a0-402b-8a59-ad60a8947601",
   "metadata": {},
   "outputs": [],
   "source": [
    "class Table(Dice):\n",
    "    def __init__(self):\n",
    "        super().__init__()\n",
    "        \n",
    "    def point_check(self):\n",
    "        super().roll()\n",
    "        self.point = self.dice1+self.dice2\n",
    "        if 0 < self.point < 13: \n",
    "            return print(\"point has been set\")\n",
    "        else: \n",
    "            print(\"point has not been set\")  "
   ]
  },
  {
   "cell_type": "code",
   "execution_count": 3,
   "id": "2653d956-5217-4f6e-9f27-b8611e6a076d",
   "metadata": {},
   "outputs": [],
   "source": [
    "class Player(Table):\n",
    "    def __init__(self):\n",
    "        super().__init__()\n",
    "        self.name = input(\"Please enter your name:\")\n",
    "        \n",
    "        while True:\n",
    "            try:\n",
    "                self.bankroll = input(\"Please enter your bankroll:\")\n",
    "                if int(self.bankroll)<0:\n",
    "                    print(\"negative vibe\")\n",
    "                    continue\n",
    "                else:\n",
    "                    value = int(self.bankroll)\n",
    "                    print(\"you good boi\")\n",
    "            except:\n",
    "                try:\n",
    "                    value = float(self.bankroll)\n",
    "                    print(\"Please enter the value as an integer\")\n",
    "                    continue\n",
    "                except ValueError:\n",
    "                    print(\"That's not a number!\")\n",
    "                    continue\n",
    "            else:\n",
    "                self.bankroll = int(self.bankroll)\n",
    "                return False  "
   ]
  },
  {
   "cell_type": "code",
   "execution_count": 11,
   "id": "0416e194-2c30-458d-b351-6cce54c405bb",
   "metadata": {},
   "outputs": [],
   "source": [
    "class Bets(Player):\n",
    "    def __init__(self):\n",
    "        super().__init__()\n",
    "        self.point_on = 0  \n",
    "        self.pas = 0\n",
    "    def Insufficient_funds(self):\n",
    "        while True:\n",
    "            try:\n",
    "                self.bet_amount = int(input(f\"Your bankroll is equal to {self.bankroll}. Please enter an amount less than your bankroll:\"))\n",
    "                if int(self.bet_amount) > int(self.bankroll):\n",
    "                    continue\n",
    "                else: \n",
    "                    break\n",
    "            except: \n",
    "                continue\n",
    "            else: \n",
    "                break\n",
    "    \n",
    "    def pass_line(self):\n",
    "        if self.total == 7 or self.total == 11:\n",
    "            print(\"pass line'ın içindeyim\") \n",
    "            Bets.bet_won(self) #BURADA SIKINTI VAR!!!!!!!\n",
    "        elif self.total == 2 or self.total == 3:\n",
    "            print(\"pass line'ın içindeyim\")\n",
    "            Bets.bet_lost(self)\n",
    "        else: \n",
    "            print(\"ladies and gentlemen! we got on\")\n",
    "            self.point_on = self.total\n",
    "            self.pas = 1\n",
    "    \n",
    "    def do_not_pass(self):\n",
    "        if self.total == 2 or self.total == 3:\n",
    "            Bets.bet_won(self) \n",
    "        elif self.total == 7 or self.total == 11:\n",
    "            Bets.bet_lost(self)\n",
    "        else: \n",
    "            print(\"ladies and gentlemen! we got on\")\n",
    "            self.point_on = self.total\n",
    "            self.pas = 2\n",
    "    \n",
    "    def Odds(self):\n",
    "        choose_number = int(input(\"Please enter one of the following: 4,5,6,8,9,10\"))\n",
    "        if choose_number == self.total:\n",
    "            self.bankroll += 2*self.bet_amount\n",
    "        else: \n",
    "            self.bankroll -= self.bet_amount\n",
    "    \n",
    "    def betting_turn(self):\n",
    "        answer_for_bet = input(\"Do you wish to bet this round y/n?:\").lower()\n",
    "        if answer_for_bet == \"n\":\n",
    "            return print(f\"{self.name} passed this round\")\n",
    "        elif answer_for_bet == \"y\":\n",
    "            Bets.ingest_bet(self)\n",
    "        else:\n",
    "            print(\"please type y or n as an input\")\n",
    "            Bets.betting_turn(self)\n",
    "    \n",
    "    def ingest_bet(self):\n",
    "                \n",
    "        while True:\n",
    "            self.bet_amount = input(\"bet_amount:\")\n",
    "            try:         \n",
    "                if int(self.bet_amount)<0:\n",
    "                    print(\"negative vibe\")\n",
    "                    continue\n",
    "                elif int(self.bet_amount)==0:\n",
    "                    print(\"you can not have 0 bet amount\")\n",
    "                    continue \n",
    "                else:\n",
    "                    value2 = int(self.bet_amount)\n",
    "                    print(\"you good boi\")\n",
    "            except:\n",
    "                try:\n",
    "                    value2 = float(self.bet_amount)\n",
    "                    print(\"Please enter the value as an integer\")\n",
    "                    continue\n",
    "                except ValueError:\n",
    "                    print(\"That's not a number!\")\n",
    "                    continue\n",
    "            else: \n",
    "                self.bet_amount = int(self.bet_amount)\n",
    "                break\n",
    "               \n",
    "        if int(self.bet_amount) > int(self.bankroll):\n",
    "            Bets.Insufficient_funds(self)\n",
    "        else: pass\n",
    "        \n",
    "        while True:\n",
    "            self.bet_type = input(\"for bet type, enter one of the following: pass, don't pass or odd bet:\").lower()\n",
    "            try:\n",
    "                if (self.bet_type).lower() == \"pass\":\n",
    "                    Bets.pass_line(self)\n",
    "                elif (self.bet_type).lower() == \"don't pass\":\n",
    "                    Bets.do_not_pass(self)\n",
    "                elif (self.bet_type).lower() == \"odd bet\":\n",
    "                    Bets.odd_bets(self)\n",
    "                else:\n",
    "                    print(\"Please enter one of following: pass, don't pass or odd bet\")\n",
    "                    continue\n",
    "            except: \n",
    "                print(\"Please enter one of following: pass, don't pass or odd bet\")\n",
    "                continue\n",
    "            else:\n",
    "                break\n",
    "        \n",
    "    def bet_won(self):\n",
    "        self.bankroll += self.bet_amount\n",
    "        print(f\"you won and earned {self.bet_amount}$ on this turn. Remaining balance is {self.bankroll}.\")\n",
    "            \n",
    "    def bet_lost(self):\n",
    "        self.bankroll -= self.bet_amount\n",
    "        print(f\"you lost {self.bet_amount}$ on this turn. Remaining balance is {self.bankroll}.\")\n",
    "    \n",
    "    def bet_made(self)\n",
    "        if self.bet_amount != 0\n",
    "        print(\"bet is made\")\n",
    "    \n",
    "    def shooter(self):\n",
    "        if self.point_on != 0:\n",
    "            Dice.roll(self)\n",
    "            if self.total == self.point_on:\n",
    "                if self.pas == 1:\n",
    "                    Bets.bet_won(self) \n",
    "                elif self.pas == 2:\n",
    "                    Bets.bet_lost(self)\n",
    "            elif self.total == 7:\n",
    "                if self.pas == 1:\n",
    "                    Bets.bet_lost(self) \n",
    "                elif self.pas ==2:\n",
    "                    Bets.bet_won(self) \n",
    "            else:\n",
    "                Bets.shooter(self)\n",
    "        else:\n",
    "            print(\"haci oyun zaten bitmis\")"
   ]
  },
  {
   "cell_type": "code",
   "execution_count": 5,
   "id": "f1b72499-0ea8-436c-81cc-e2ef87726667",
   "metadata": {},
   "outputs": [
    {
     "name": "stdout",
     "output_type": "stream",
     "text": [
      "superparent'ın içi 0 ve 0\n"
     ]
    },
    {
     "name": "stdin",
     "output_type": "stream",
     "text": [
      "Please enter your name: Enfib\n",
      "Please enter your bankroll: 2000\n"
     ]
    },
    {
     "name": "stdout",
     "output_type": "stream",
     "text": [
      "you good boi\n"
     ]
    }
   ],
   "source": [
    "dobby = Bets()"
   ]
  },
  {
   "cell_type": "code",
   "execution_count": 22,
   "id": "bc2bbb84-2a3e-44e2-a64b-63c795e48fb5",
   "metadata": {},
   "outputs": [
    {
     "name": "stdout",
     "output_type": "stream",
     "text": [
      "rollün içi 2 ve 6\n",
      "point has been set\n"
     ]
    }
   ],
   "source": [
    "dobby.point_check()"
   ]
  },
  {
   "cell_type": "code",
   "execution_count": 23,
   "id": "2706fa4b-ac6b-43e4-b139-628bff569e70",
   "metadata": {
    "tags": []
   },
   "outputs": [
    {
     "name": "stdin",
     "output_type": "stream",
     "text": [
      "Do you wish to bet this round y/n?: y\n",
      "bet_amount: 50\n"
     ]
    },
    {
     "name": "stdout",
     "output_type": "stream",
     "text": [
      "you good boi\n"
     ]
    },
    {
     "name": "stdin",
     "output_type": "stream",
     "text": [
      "for bet type, enter one of the following: pass, don't pass or odd bet: don't pass\n"
     ]
    },
    {
     "name": "stdout",
     "output_type": "stream",
     "text": [
      "ladies and gentlemen! we got on\n"
     ]
    }
   ],
   "source": [
    "dobby.betting_turn()"
   ]
  },
  {
   "cell_type": "code",
   "execution_count": 45,
   "id": "8f6acc6c-cf86-47c9-9b38-1878a64be96a",
   "metadata": {},
   "outputs": [
    {
     "name": "stdout",
     "output_type": "stream",
     "text": [
      "rollün içi 1 ve 2\n",
      "rollün içi 4 ve 1\n",
      "rollün içi 3 ve 3\n",
      "rollün içi 3 ve 3\n",
      "rollün içi 1 ve 1\n",
      "rollün içi 6 ve 6\n",
      "rollün içi 5 ve 6\n",
      "rollün içi 1 ve 3\n",
      "rollün içi 2 ve 6\n",
      "you lost 50$ on this turn. Remaining balance is 1970.\n"
     ]
    }
   ],
   "source": [
    "dobby.shooter()"
   ]
  },
  {
   "cell_type": "code",
   "execution_count": null,
   "id": "d44c3fa6-ba7b-4a70-b273-eeff79293149",
   "metadata": {},
   "outputs": [],
   "source": []
  }
 ],
 "metadata": {
  "kernelspec": {
   "display_name": "Python 3 (ipykernel)",
   "language": "python",
   "name": "python3"
  },
  "language_info": {
   "codemirror_mode": {
    "name": "ipython",
    "version": 3
   },
   "file_extension": ".py",
   "mimetype": "text/x-python",
   "name": "python",
   "nbconvert_exporter": "python",
   "pygments_lexer": "ipython3",
   "version": "3.9.12"
  }
 },
 "nbformat": 4,
 "nbformat_minor": 5
}
