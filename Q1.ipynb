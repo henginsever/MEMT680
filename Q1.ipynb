{
 "cells": [
  {
   "cell_type": "code",
   "execution_count": 4,
   "id": "fd29d152-d27c-4cbd-9729-57c39edcedd9",
   "metadata": {},
   "outputs": [
    {
     "name": "stdin",
     "output_type": "stream",
     "text": [
      "How many games you count as a win:\n",
      " 5\n",
      "rock, scissors, paper????:\n",
      " rock\n"
     ]
    },
    {
     "name": "stdout",
     "output_type": "stream",
     "text": [
      "computer randomed scissors\n",
      "\n",
      "you win!\n",
      "\n",
      "you:1 \t computer: 0\n"
     ]
    },
    {
     "name": "stdin",
     "output_type": "stream",
     "text": [
      "Do you wish to exit? (y/n):  rock\n",
      "rock, scissors, paper????:\n",
      " rock\n"
     ]
    },
    {
     "name": "stdout",
     "output_type": "stream",
     "text": [
      "computer randomed paper\n",
      "\n",
      "you lose!\n",
      "\n",
      "you:1 \t computer: 1\n"
     ]
    },
    {
     "name": "stdin",
     "output_type": "stream",
     "text": [
      "Do you wish to exit? (y/n):  rock\n",
      "rock, scissors, paper????:\n",
      " rock\n"
     ]
    },
    {
     "name": "stdout",
     "output_type": "stream",
     "text": [
      "computer randomed scissors\n",
      "\n",
      "you win!\n",
      "\n",
      "you:2 \t computer: 1\n"
     ]
    },
    {
     "name": "stdin",
     "output_type": "stream",
     "text": [
      "Do you wish to exit? (y/n):  rock\n",
      "rock, scissors, paper????:\n",
      " rock\n"
     ]
    },
    {
     "name": "stdout",
     "output_type": "stream",
     "text": [
      "computer randomed scissors\n",
      "\n",
      "you win!\n",
      "\n",
      "you:3 \t computer: 1\n"
     ]
    },
    {
     "name": "stdin",
     "output_type": "stream",
     "text": [
      "Do you wish to exit? (y/n):  rock\n",
      "rock, scissors, paper????:\n",
      " rock\n"
     ]
    },
    {
     "name": "stdout",
     "output_type": "stream",
     "text": [
      "computer randomed scissors\n",
      "\n",
      "you win!\n",
      "\n",
      "you:4 \t computer: 1\n"
     ]
    },
    {
     "name": "stdin",
     "output_type": "stream",
     "text": [
      "Do you wish to exit? (y/n):  rock\n",
      "rock, scissors, paper????:\n",
      " rock\n"
     ]
    },
    {
     "name": "stdout",
     "output_type": "stream",
     "text": [
      "computer randomed paper\n",
      "\n",
      "you lose!\n",
      "\n",
      "you:4 \t computer: 2\n"
     ]
    },
    {
     "name": "stdin",
     "output_type": "stream",
     "text": [
      "Do you wish to exit? (y/n):  rock\n",
      "rock, scissors, paper????:\n",
      " rock\n"
     ]
    },
    {
     "name": "stdout",
     "output_type": "stream",
     "text": [
      "computer randomed scissors\n",
      "\n",
      "you win!\n",
      "\n",
      "You somehow managed to win.\n",
      "you:5 \t computer: 2\n"
     ]
    },
    {
     "name": "stdin",
     "output_type": "stream",
     "text": [
      "Do you wish to exit? (y/n):  rock\n"
     ]
    }
   ],
   "source": [
    "b = \"nope\"\n",
    "contgame = \"of\"\n",
    "you=0\n",
    "computer=0\n",
    "import random\n",
    "\n",
    "input0 = int(input(\"How many games you count as a win:\\n\"))\n",
    "    \n",
    "while you < input0 and computer < input0:\n",
    "    input1=input(\"rock, scissors, paper????:\\n\").lower()\n",
    "    \n",
    "    a = random.randint(1, 3)\n",
    "    if a==1:\n",
    "        b = \"rock\"\n",
    "    elif a==2:\n",
    "        b=\"scissors\"\n",
    "    elif \"a==3\":\n",
    "        b=\"paper\"\n",
    "    else:\n",
    "        print(\"please type rock,scissors or paper\\n\")\n",
    "\n",
    "    print(\"computer randomed {}\\n\".format(b))\n",
    "\n",
    "    if input1 == \"rock\" and a == 1:\n",
    "        print(\"draw\\n\")\n",
    "    elif input1 == \"rock\" and a == 2:\n",
    "        print(\"you win!\\n\")\n",
    "        you +=1\n",
    "    elif input1 == \"rock\" and a == 3:\n",
    "        print(\"you lose!\\n\")\n",
    "        computer +=1\n",
    "    elif input1 == \"scissors\\n\" and a == 2:\n",
    "        print(\"draw\")\n",
    "    elif input1 == \"scissors\\n\" and a == 3:\n",
    "        print(\"you win!\")\n",
    "        you +=1\n",
    "    elif input1 == \"scissors\\n\" and a == 1:\n",
    "        print(\"you lose!\\n\")\n",
    "        computer +=1\n",
    "    elif input1 == \"paper\\n\" and a == 1:\n",
    "        print(\"you win!\\n\")\n",
    "        you +=1\n",
    "    elif input1 == \"paper\\n\" and a == 2:\n",
    "        print(\"you lose!\\n\")\n",
    "        computer +=1\n",
    "    elif input1 == \"paper\\n\" and a == 3:\n",
    "        print(\"draw\")\n",
    "\n",
    "    else:\n",
    "        print(\"please type rock,scissors or paper\")\n",
    "\n",
    "    if computer == input0 and you==0:\n",
    "        print(\"OVERALL :COMPUTER FLAWLESS VICTORY\")\n",
    "    elif computer == input0:\n",
    "        print(\"OVERALL :COMPUTER VICTORY\")\n",
    "    elif you==input0:\n",
    "        print(\"OVERALL: You somehow managed to win.\")\n",
    "    print(\"you:{} \\t computer: {}\".format(you,computer))\n",
    "    \n",
    "    \n",
    "    contgame = input(\"Do you wish to exit? (y/n): \").lower()\n",
    "    if contgame == \"y\":\n",
    "        break"
   ]
  },
  {
   "cell_type": "code",
   "execution_count": null,
   "id": "ea4dcc71-0c34-408e-b8db-045ea2f0503f",
   "metadata": {},
   "outputs": [],
   "source": []
  }
 ],
 "metadata": {
  "kernelspec": {
   "display_name": "Python 3 (ipykernel)",
   "language": "python",
   "name": "python3"
  },
  "language_info": {
   "codemirror_mode": {
    "name": "ipython",
    "version": 3
   },
   "file_extension": ".py",
   "mimetype": "text/x-python",
   "name": "python",
   "nbconvert_exporter": "python",
   "pygments_lexer": "ipython3",
   "version": "3.9.12"
  }
 },
 "nbformat": 4,
 "nbformat_minor": 5
}
